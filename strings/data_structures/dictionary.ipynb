{
 "cells": [
  {
   "cell_type": "code",
   "execution_count": null,
   "metadata": {},
   "outputs": [],
   "source": []
  },
  {
   "cell_type": "code",
   "execution_count": null,
   "metadata": {},
   "outputs": [],
   "source": [
    "x = [\"Ravi\", ]\n"
   ]
  },
  {
   "cell_type": "code",
   "execution_count": 1,
   "metadata": {},
   "outputs": [
    {
     "ename": "NameError",
     "evalue": "name 'age' is not defined",
     "output_type": "error",
     "traceback": [
      "\u001b[1;31m---------------------------------------------------------------------------\u001b[0m",
      "\u001b[1;31mNameError\u001b[0m                                 Traceback (most recent call last)",
      "\u001b[1;32mc:\\Users\\v7aan\\Documents\\digipodium python\\strings\\data_structures\\dictionary.ipynb Cell 3\u001b[0m in \u001b[0;36m<cell line: 3>\u001b[1;34m()\u001b[0m\n\u001b[0;32m      <a href='vscode-notebook-cell:/c%3A/Users/v7aan/Documents/digipodium%20python/strings/data_structures/dictionary.ipynb#W2sZmlsZQ%3D%3D?line=3'>4</a>\u001b[0m     key \u001b[39m=\u001b[39m \u001b[39minput\u001b[39m(\u001b[39m\"\u001b[39m\u001b[39mEnter yr name: \u001b[39m\u001b[39m\"\u001b[39m)\n\u001b[0;32m      <a href='vscode-notebook-cell:/c%3A/Users/v7aan/Documents/digipodium%20python/strings/data_structures/dictionary.ipynb#W2sZmlsZQ%3D%3D?line=4'>5</a>\u001b[0m     value \u001b[39m=\u001b[39m \u001b[39minput\u001b[39m(\u001b[39m\"\u001b[39m\u001b[39mEnter value \u001b[39m\u001b[39m\"\u001b[39m)\n\u001b[1;32m----> <a href='vscode-notebook-cell:/c%3A/Users/v7aan/Documents/digipodium%20python/strings/data_structures/dictionary.ipynb#W2sZmlsZQ%3D%3D?line=6'>7</a>\u001b[0m     \u001b[39mdict\u001b[39m[name] \u001b[39m=\u001b[39m age\n\u001b[0;32m     <a href='vscode-notebook-cell:/c%3A/Users/v7aan/Documents/digipodium%20python/strings/data_structures/dictionary.ipynb#W2sZmlsZQ%3D%3D?line=9'>10</a>\u001b[0m \u001b[39m# 👇️ {'Alice': '100', 'Bob': '100', 'Carl': '100'}\u001b[39;00m\n\u001b[0;32m     <a href='vscode-notebook-cell:/c%3A/Users/v7aan/Documents/digipodium%20python/strings/data_structures/dictionary.ipynb#W2sZmlsZQ%3D%3D?line=10'>11</a>\u001b[0m \u001b[39mprint\u001b[39m(\u001b[39mdict\u001b[39m)\n",
      "\u001b[1;31mNameError\u001b[0m: name 'age' is not defined"
     ]
    }
   ],
   "source": [
    "dict = {}\n",
    "\n",
    "for i in range(5):\n",
    "    key = input(\"Enter yr name: \")\n",
    "    value = input(\"Enter value \")\n",
    "\n",
    "    dict[name] = age\n",
    "\n",
    "\n",
    "# 👇️ {'Alice': '100', 'Bob': '100', 'Carl': '100'}\n",
    "print(dict)"
   ]
  },
  {
   "cell_type": "code",
   "execution_count": null,
   "metadata": {},
   "outputs": [],
   "source": [
    "2"
   ]
  }
 ],
 "metadata": {
  "kernelspec": {
   "display_name": "Python 3.9.12 64-bit",
   "language": "python",
   "name": "python3"
  },
  "language_info": {
   "codemirror_mode": {
    "name": "ipython",
    "version": 3
   },
   "file_extension": ".py",
   "mimetype": "text/x-python",
   "name": "python",
   "nbconvert_exporter": "python",
   "pygments_lexer": "ipython3",
   "version": "3.9.12"
  },
  "orig_nbformat": 4,
  "vscode": {
   "interpreter": {
    "hash": "a535a6919415e10e9097c049e4b813ad533ecfa83d1a031bd2e9a5d361c7eec1"
   }
  }
 },
 "nbformat": 4,
 "nbformat_minor": 2
}
