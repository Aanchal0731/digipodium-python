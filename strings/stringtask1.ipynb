{
 "cells": [
  {
   "cell_type": "code",
   "execution_count": 3,
   "metadata": {},
   "outputs": [
    {
     "name": "stdout",
     "output_type": "stream",
     "text": [
      "string Example\n"
     ]
    }
   ],
   "source": [
    "#1\n",
    "s = 'string Example'\n",
    "print(s)"
   ]
  },
  {
   "cell_type": "code",
   "execution_count": 4,
   "metadata": {},
   "outputs": [
    {
     "name": "stdout",
     "output_type": "stream",
     "text": [
      "8\n"
     ]
    }
   ],
   "source": [
    "#2\n",
    "s = input('Enter somthing=>')\n",
    "print(len(s))"
   ]
  },
  {
   "cell_type": "code",
   "execution_count": 5,
   "metadata": {},
   "outputs": [
    {
     "name": "stdout",
     "output_type": "stream",
     "text": [
      "great\n",
      "great\n"
     ]
    }
   ],
   "source": [
    "#3\n",
    "sentence = 'python is great'\n",
    "last_word = sentence[-5:]\n",
    "print(last_word)\n",
    "last_word_2 = sentence.split()[-1]\n",
    "print(last_word_2)\n"
   ]
  },
  {
   "cell_type": "code",
   "execution_count": 7,
   "metadata": {},
   "outputs": [
    {
     "name": "stdout",
     "output_type": "stream",
     "text": [
      "python is everywhere\n",
      "python is everywhere\n",
      "python is everywhere\n"
     ]
    }
   ],
   "source": [
    "#4\n",
    "s = \"python is everywhere\"\n",
    "for word in s.split():\n",
    "    print(s)"
   ]
  },
  {
   "cell_type": "code",
   "execution_count": 8,
   "metadata": {},
   "outputs": [
    {
     "name": "stdout",
     "output_type": "stream",
     "text": [
      "!dlrow olleh\n"
     ]
    }
   ],
   "source": [
    "#5\n",
    "s = \"hello world!\"\n",
    "r = s[::-1] #reverse the string\n",
    "print(r)"
   ]
  },
  {
   "cell_type": "code",
   "execution_count": 9,
   "metadata": {},
   "outputs": [
    {
     "data": {
      "text/plain": [
       "'world! hello'"
      ]
     },
     "execution_count": 9,
     "metadata": {},
     "output_type": "execute_result"
    }
   ],
   "source": [
    "\" \".join(s.split()[::-1]) "
   ]
  },
  {
   "cell_type": "code",
   "execution_count": 10,
   "metadata": {},
   "outputs": [
    {
     "data": {
      "text/plain": [
       "'HOW ARE YOU ?'"
      ]
     },
     "execution_count": 10,
     "metadata": {},
     "output_type": "execute_result"
    }
   ],
   "source": [
    "#6\n",
    "\"how are you ?\".upper()"
   ]
  },
  {
   "cell_type": "code",
   "execution_count": 12,
   "metadata": {},
   "outputs": [
    {
     "name": "stdout",
     "output_type": "stream",
     "text": [
      "to move to newline '\\n' is used.\n"
     ]
    }
   ],
   "source": [
    "#10\n",
    "s = r\"to move to newline '\\n' is used.\" #r is a raw string\n",
    "print(s)"
   ]
  },
  {
   "cell_type": "code",
   "execution_count": 13,
   "metadata": {},
   "outputs": [
    {
     "data": {
      "text/plain": [
       "'####################'"
      ]
     },
     "execution_count": 13,
     "metadata": {},
     "output_type": "execute_result"
    }
   ],
   "source": [
    "'#' *20 "
   ]
  },
  {
   "cell_type": "code",
   "execution_count": 14,
   "metadata": {},
   "outputs": [
    {
     "data": {
      "text/plain": [
       "4"
      ]
     },
     "execution_count": 14,
     "metadata": {},
     "output_type": "execute_result"
    }
   ],
   "source": [
    "s= \"seventy seven is not seven eight\"\n",
    "s.count('s')"
   ]
  },
  {
   "cell_type": "code",
   "execution_count": 15,
   "metadata": {},
   "outputs": [
    {
     "name": "stdout",
     "output_type": "stream",
     "text": [
      "my\n",
      "name\n",
      "is\n",
      "x\n"
     ]
    }
   ],
   "source": [
    "#15\n",
    "s = input (\"enter something\")\n",
    "for word in s.split():\n",
    "    print(word)"
   ]
  },
  {
   "cell_type": "code",
   "execution_count": 16,
   "metadata": {},
   "outputs": [
    {
     "name": "stdout",
     "output_type": "stream",
     "text": [
      "this is not a good string\n"
     ]
    }
   ],
   "source": [
    "#19\n",
    "text = '  this is not a good string'\n",
    "print(text.strip())"
   ]
  },
  {
   "cell_type": "code",
   "execution_count": 17,
   "metadata": {},
   "outputs": [
    {
     "name": "stdout",
     "output_type": "stream",
     "text": [
      "you entered something else\n"
     ]
    }
   ],
   "source": [
    "#18\n",
    "data = input(\"kuch bhi likho=>\")\n",
    "if data.isnumeric():\n",
    "    print(\"you entered a number\")\n",
    "else:\n",
    "    print(\"you entered something else\")     "
   ]
  },
  {
   "cell_type": "code",
   "execution_count": 36,
   "metadata": {},
   "outputs": [
    {
     "name": "stdout",
     "output_type": "stream",
     "text": [
      "found\n",
      "found\n",
      "found\n",
      "found\n",
      "found\n",
      "found\n"
     ]
    }
   ],
   "source": [
    "\n",
    "#20\n",
    "data = input(\"kuch bhi likho=>\")\n",
    "for c in data:\n",
    "    if c.isupper():\n",
    "        print(\"found\")\n",
    "        "
   ]
  },
  {
   "cell_type": "code",
   "execution_count": 20,
   "metadata": {},
   "outputs": [
    {
     "data": {
      "text/plain": [
       "['joe,', 'jam,', 'sam,', 'tom,', 'crue,', 'robert,', 'suji']"
      ]
     },
     "execution_count": 20,
     "metadata": {},
     "output_type": "execute_result"
    }
   ],
   "source": [
    "#21\n",
    "names = 'joe, jam, sam, tom, crue, robert, suji'\n",
    "names.split()"
   ]
  },
  {
   "cell_type": "code",
   "execution_count": 23,
   "metadata": {},
   "outputs": [
    {
     "name": "stdout",
     "output_type": "stream",
     "text": [
      "thisaye isaye someaye textaye "
     ]
    }
   ],
   "source": [
    "#22\n",
    "text = 'this is some text'\n",
    "for word in text.split():\n",
    "    print(word+\"aye\" , end =\" \")"
   ]
  },
  {
   "cell_type": "code",
   "execution_count": 24,
   "metadata": {},
   "outputs": [],
   "source": [
    "#23\n",
    "s = input('enter some data=> ')\n",
    "if 'ify' in s.lower():\n",
    "    print('ify found')"
   ]
  },
  {
   "cell_type": "code",
   "execution_count": 30,
   "metadata": {},
   "outputs": [
    {
     "name": "stdout",
     "output_type": "stream",
     "text": [
      "abababababababababababababababababababab\n"
     ]
    }
   ],
   "source": [
    "#24\n",
    "text = '@#$%^^%!!@#$%^&*()_+'\n",
    "spe = '@!#$%^&*()_+'\n",
    "for char in spe:\n",
    "    text = text.replace(char, 'ab')\n",
    "print(text)"
   ]
  },
  {
   "cell_type": "code",
   "execution_count": 27,
   "metadata": {},
   "outputs": [
    {
     "name": "stdout",
     "output_type": "stream",
     "text": [
      "!\"#$%&'()*+,-./:;<=>?@[\\]^_`{|}~\n"
     ]
    }
   ],
   "source": [
    "\n",
    "from string import punctuation\n",
    "print(punctuation)"
   ]
  },
  {
   "cell_type": "code",
   "execution_count": 32,
   "metadata": {},
   "outputs": [
    {
     "name": "stdout",
     "output_type": "stream",
     "text": [
      "average word size => 5\n"
     ]
    }
   ],
   "source": [
    "#25\n",
    "paragraph = 'this is a paragraph which is written just for the purpose of providing content'\n",
    "words = paragraph.split()\n",
    "total_words = len(words)\n",
    "wlt = 0\n",
    "for word in words:\n",
    "    wlt += len(word)\n",
    "print(\"average word size =>\", round (wlt/total_words)) "
   ]
  },
  {
   "cell_type": "code",
   "execution_count": null,
   "metadata": {},
   "outputs": [],
   "source": []
  },
  {
   "cell_type": "markdown",
   "metadata": {},
   "source": [
    "#################\n",
    "#################\n",
    "          #######\n",
    "        ####\n",
    "    #####"
   ]
  },
  {
   "cell_type": "code",
   "execution_count": 25,
   "metadata": {},
   "outputs": [
    {
     "name": "stdout",
     "output_type": "stream",
     "text": [
      "                    #####\n",
      "                  #####\n",
      "                #####\n",
      "              #####\n",
      "            #####\n",
      "          #####\n",
      "        #####\n",
      "                    #####\n",
      "                      #####\n",
      "                        #####\n",
      "                          #####\n",
      "                            #####\n",
      "                              #####\n",
      "                                #####\n",
      "####################\n"
     ]
    }
   ],
   "source": [
    "A = 20\n",
    "\n",
    "for i in range(7):\n",
    "    print(' '*(A-i*2) + '#'*5)\n",
    "for i in range(7):\n",
    "    print(' '*(A+i*2) + '#'*5)\n",
    "for i in range(1):\n",
    "    print('#' *(A-i*2))\n",
    "\n",
    "\n"
   ]
  },
  {
   "cell_type": "code",
   "execution_count": null,
   "metadata": {},
   "outputs": [],
   "source": []
  }
 ],
 "metadata": {
  "kernelspec": {
   "display_name": "Python 3.9.12 ('base')",
   "language": "python",
   "name": "python3"
  },
  "language_info": {
   "codemirror_mode": {
    "name": "ipython",
    "version": 3
   },
   "file_extension": ".py",
   "mimetype": "text/x-python",
   "name": "python",
   "nbconvert_exporter": "python",
   "pygments_lexer": "ipython3",
   "version": "3.9.12"
  },
  "orig_nbformat": 4,
  "vscode": {
   "interpreter": {
    "hash": "5fd3c905e8dfdf9ea78b4c77d35dd57c78f53ede60aefaf574944210765b6a9f"
   }
  }
 },
 "nbformat": 4,
 "nbformat_minor": 2
}
