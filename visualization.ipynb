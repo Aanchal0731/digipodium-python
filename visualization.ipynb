{
 "cells": [
  {
   "cell_type": "code",
   "execution_count": null,
   "metadata": {},
   "outputs": [],
   "source": [
    "import numpy as numpy\n",
    "import matplotlib.pyplot as plt"
   ]
  },
  {
   "cell_type": "code",
   "execution_count": null,
   "metadata": {},
   "outputs": [],
   "source": [
    "# a simple graph with sine wave and cosine wave\n",
    "t = np.linspace(0, 10, 100)\n",
    "fig = plt.figure(figsize=10,10)\n",
    "plt.plot(t, np.sin(t), 'b-')\n",
    "plt.legend()\n",
    "plt.show()\n"
   ]
  },
  {
   "cell_type": "code",
   "execution_count": null,
   "metadata": {},
   "outputs": [],
   "source": [
    "np.sin(t)"
   ]
  },
  {
   "cell_type": "code",
   "execution_count": null,
   "metadata": {},
   "outputs": [],
   "source": [
    "fig, ax = plt.subplots(nrows=2, ncols=2, figsize=(20,6))\n",
    "ax[0].plot(t, np.sin(t), 'r-',label='sine wave of t')\n",
    "ax[1].plot(t, np.sin(t), 'r-',label='sine wave of t')\n",
    "ax[0].legend()\n",
    "ax[1].legend()\n",
    "plt.show()\n",
    "\n",
    "\n",
    "ax.shape"
   ]
  },
  {
   "cell_type": "code",
   "execution_count": null,
   "metadata": {},
   "outputs": [],
   "source": [
    "##adjusting the lable, ticks, legend and  s-axis\n",
    "\n",
    "x = np.linspace(1,10,100)\n",
    "plt.plot(x, np.sin(x), 'g', label='sine wave of t')\n",
    "plt.label('x values', fontsize=14, fontdict={'color': 'red'})\n",
    "plt.label('y values', fontsize=14, fontdict={'color': 'green'})\n",
    "plt.title('Sine wave', fontsize=16, fontdict={'color',: 'green', 'weight': 'bold',})\n",
    "plt.show()"
   ]
  },
  {
   "cell_type": "code",
   "execution_count": null,
   "metadata": {},
   "outputs": [],
   "source": []
  }
 ],
 "metadata": {
  "language_info": {
   "name": "python"
  },
  "orig_nbformat": 4
 },
 "nbformat": 4,
 "nbformat_minor": 2
}
