{
 "cells": [
  {
   "cell_type": "code",
   "execution_count": 3,
   "metadata": {},
   "outputs": [
    {
     "name": "stdout",
     "output_type": "stream",
     "text": [
      "A\n",
      "N\n",
      "D\n",
      "R\n",
      "O\n",
      "M\n",
      "E\n",
      "D\n",
      "A\n",
      " \n",
      "I\n",
      "S\n",
      " \n",
      "A\n",
      " \n",
      "G\n",
      "A\n",
      "L\n",
      "A\n",
      "X\n",
      "Y\n"
     ]
    }
   ],
   "source": [
    "x = 'ANDROMEDA IS A GALAXY'\n",
    "for i in x:\n",
    "    print(i)\n"
   ]
  },
  {
   "cell_type": "code",
   "execution_count": 7,
   "metadata": {},
   "outputs": [
    {
     "name": "stdout",
     "output_type": "stream",
     "text": [
      "I like Red color\n",
      "I like green color\n",
      "I like yellow color\n",
      "I like black color\n"
     ]
    }
   ],
   "source": [
    "colors = ['Red','green','yellow','black']\n",
    "for c in colors:\n",
    "    print(f'I like {c} color')"
   ]
  },
  {
   "cell_type": "code",
   "execution_count": 18,
   "metadata": {},
   "outputs": [
    {
     "name": "stdout",
     "output_type": "stream",
     "text": [
      "0  1  2  3  4  5  6  7  8  9  "
     ]
    }
   ],
   "source": [
    "for i in range(10):\n",
    "    print(i, end='  ')\n",
    "    \n"
   ]
  },
  {
   "cell_type": "code",
   "execution_count": 9,
   "metadata": {},
   "outputs": [
    {
     "name": "stdout",
     "output_type": "stream",
     "text": [
      "5 6 7 8 9 10 11 12 13 14 15 "
     ]
    }
   ],
   "source": [
    "for i in range(5,16):\n",
    "    print(i, end=' ')"
   ]
  },
  {
   "cell_type": "code",
   "execution_count": 19,
   "metadata": {},
   "outputs": [
    {
     "name": "stdout",
     "output_type": "stream",
     "text": [
      "0 10 20 30 40 50 60 70 80 90 100 "
     ]
    }
   ],
   "source": [
    "for i in range(0,101,10):\n",
    "    print(i, end=' ')"
   ]
  },
  {
   "cell_type": "code",
   "execution_count": 20,
   "metadata": {},
   "outputs": [
    {
     "name": "stdout",
     "output_type": "stream",
     "text": [
      "10 9 8 7 6 5 4 3 2 1 "
     ]
    }
   ],
   "source": [
    "#reverse loop\n",
    "for i in range(10,0,-1):\n",
    "    print(i, end=' ')\n"
   ]
  },
  {
   "cell_type": "code",
   "execution_count": 22,
   "metadata": {},
   "outputs": [
    {
     "name": "stdout",
     "output_type": "stream",
     "text": [
      "1 2 3 4 5 6 7 8 9 10 "
     ]
    }
   ],
   "source": [
    "for i in range(-1,-11,-1):\n",
    "    print(-i, end=' ')"
   ]
  },
  {
   "cell_type": "code",
   "execution_count": 25,
   "metadata": {},
   "outputs": [
    {
     "name": "stdout",
     "output_type": "stream",
     "text": [
      "You got point 0 \n",
      "You got point 1 \n",
      "You got point 2 \n",
      "You got point 3 \n",
      "You got point 4 \n",
      "You got point 5 \n",
      "You got point 6 \n",
      "You got point 7 \n"
     ]
    }
   ],
   "source": [
    "numbers = ['0','1','2','3','4','5','6','7']\n",
    "for a in numbers:\n",
    "    print(f'You got point {a} ')"
   ]
  },
  {
   "cell_type": "code",
   "execution_count": 35,
   "metadata": {},
   "outputs": [
    {
     "name": "stdout",
     "output_type": "stream",
     "text": [
      "Sheep 1\n",
      "Sheep 2\n",
      "Sheep 3\n",
      "Sheep 4\n",
      "Sheep 5\n",
      "Sheep 6\n",
      "Sheep 7\n",
      "Sheep 8\n",
      "Sheep 9\n",
      "Sheep 10\n"
     ]
    }
   ],
   "source": [
    "for num in range(1,11):\n",
    "    print('Sheep', num)"
   ]
  },
  {
   "cell_type": "code",
   "execution_count": 32,
   "metadata": {},
   "outputs": [
    {
     "name": "stdout",
     "output_type": "stream",
     "text": [
      "you got point 0\n",
      "you got point 1\n",
      "you got point 2\n",
      "you got point 3\n",
      "you got point 4\n",
      "you got point 5\n"
     ]
    }
   ],
   "source": [
    "for i in range(6):\n",
    "    print('you got point', i)"
   ]
  },
  {
   "cell_type": "code",
   "execution_count": 29,
   "metadata": {},
   "outputs": [
    {
     "name": "stdout",
     "output_type": "stream",
     "text": [
      "level 1\n",
      "level 3\n",
      "level 5\n",
      "level 7\n",
      "level 9\n"
     ]
    }
   ],
   "source": [
    "for num in range (1,10,2):\n",
    "    print('level', num)"
   ]
  },
  {
   "cell_type": "code",
   "execution_count": null,
   "metadata": {},
   "outputs": [],
   "source": []
  }
 ],
 "metadata": {
  "kernelspec": {
   "display_name": "Python 3.9.12 ('base')",
   "language": "python",
   "name": "python3"
  },
  "language_info": {
   "codemirror_mode": {
    "name": "ipython",
    "version": 3
   },
   "file_extension": ".py",
   "mimetype": "text/x-python",
   "name": "python",
   "nbconvert_exporter": "python",
   "pygments_lexer": "ipython3",
   "version": "3.9.12"
  },
  "orig_nbformat": 4,
  "vscode": {
   "interpreter": {
    "hash": "5fd3c905e8dfdf9ea78b4c77d35dd57c78f53ede60aefaf574944210765b6a9f"
   }
  }
 },
 "nbformat": 4,
 "nbformat_minor": 2
}
